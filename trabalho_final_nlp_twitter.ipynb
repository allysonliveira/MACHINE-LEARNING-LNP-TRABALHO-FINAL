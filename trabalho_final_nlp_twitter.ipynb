{
  "nbformat": 4,
  "nbformat_minor": 0,
  "metadata": {
    "colab": {
      "provenance": []
    },
    "kernelspec": {
      "name": "python3",
      "display_name": "Python 3"
    },
    "language_info": {
      "name": "python"
    }
  },
  "cells": [
    {
      "cell_type": "markdown",
      "source": [
        "## Trabalho Final - Baseado em Processamento de Linguagem Natural\n",
        "\n",
        "* A base de dados contém os posts de usuários de twitter, visa analisar o comportamente do usuário da rede social através de suas postagens e classifica-los como positivos, negativos e neutros.\n",
        "\n",
        "* Este presente trabalho apresenta a etapa de extração dos dados, análise sentimental através do método NLP, e por fim, utilizamos o modelo neural SOM para agrupar os dados e tomar as conclusões.\n",
        "\n",
        "### Referências\n",
        "- Base de dados:\n",
        "https://twitter.com/\n",
        "\n",
        "- Código de referência:\n",
        "https://github.com/allysonliveira/MACHINE-LEARNING-TRABALHO-FINAL\n",
        "https://colab.research.google.com/drive/1kqgBELk-QMU9hP13sjd75kZbLn-LeCrw?usp=sharing\n"
      ],
      "metadata": {
        "id": "KzBmya6uWoH4"
      }
    },
    {
      "cell_type": "code",
      "source": [
        "##ETAPA DE EXTRAÇÃO DE DADOS\n",
        "#Implementação da mineração das mensagens dos usuários do tweet e para criação de um arquivo .csv\n",
        "\n",
        "!pip install snscrape\n",
        "!pip install tweepy\n",
        "\n",
        "import tweepy\n",
        "import snscrape.modules.twitter as sntwitter\n",
        "import pandas as pd\n"
      ],
      "metadata": {
        "colab": {
          "base_uri": "https://localhost:8080/"
        },
        "id": "ntSatCyrkMKi",
        "outputId": "c1f537a6-2ae1-4feb-97ae-3df059c0480d"
      },
      "execution_count": null,
      "outputs": [
        {
          "output_type": "stream",
          "name": "stdout",
          "text": [
            "Requirement already satisfied: snscrape in /usr/local/lib/python3.10/dist-packages (0.7.0.20230622)\n",
            "Requirement already satisfied: requests[socks] in /usr/local/lib/python3.10/dist-packages (from snscrape) (2.27.1)\n",
            "Requirement already satisfied: lxml in /usr/local/lib/python3.10/dist-packages (from snscrape) (4.9.2)\n",
            "Requirement already satisfied: beautifulsoup4 in /usr/local/lib/python3.10/dist-packages (from snscrape) (4.11.2)\n",
            "Requirement already satisfied: filelock in /usr/local/lib/python3.10/dist-packages (from snscrape) (3.12.2)\n",
            "Requirement already satisfied: soupsieve>1.2 in /usr/local/lib/python3.10/dist-packages (from beautifulsoup4->snscrape) (2.4.1)\n",
            "Requirement already satisfied: urllib3<1.27,>=1.21.1 in /usr/local/lib/python3.10/dist-packages (from requests[socks]->snscrape) (1.26.16)\n",
            "Requirement already satisfied: certifi>=2017.4.17 in /usr/local/lib/python3.10/dist-packages (from requests[socks]->snscrape) (2023.5.7)\n",
            "Requirement already satisfied: charset-normalizer~=2.0.0 in /usr/local/lib/python3.10/dist-packages (from requests[socks]->snscrape) (2.0.12)\n",
            "Requirement already satisfied: idna<4,>=2.5 in /usr/local/lib/python3.10/dist-packages (from requests[socks]->snscrape) (3.4)\n",
            "Requirement already satisfied: PySocks!=1.5.7,>=1.5.6 in /usr/local/lib/python3.10/dist-packages (from requests[socks]->snscrape) (1.7.1)\n",
            "Requirement already satisfied: tweepy in /usr/local/lib/python3.10/dist-packages (4.13.0)\n",
            "Requirement already satisfied: oauthlib<4,>=3.2.0 in /usr/local/lib/python3.10/dist-packages (from tweepy) (3.2.2)\n",
            "Requirement already satisfied: requests<3,>=2.27.0 in /usr/local/lib/python3.10/dist-packages (from tweepy) (2.27.1)\n",
            "Requirement already satisfied: requests-oauthlib<2,>=1.2.0 in /usr/local/lib/python3.10/dist-packages (from tweepy) (1.3.1)\n",
            "Requirement already satisfied: urllib3<1.27,>=1.21.1 in /usr/local/lib/python3.10/dist-packages (from requests<3,>=2.27.0->tweepy) (1.26.16)\n",
            "Requirement already satisfied: certifi>=2017.4.17 in /usr/local/lib/python3.10/dist-packages (from requests<3,>=2.27.0->tweepy) (2023.5.7)\n",
            "Requirement already satisfied: charset-normalizer~=2.0.0 in /usr/local/lib/python3.10/dist-packages (from requests<3,>=2.27.0->tweepy) (2.0.12)\n",
            "Requirement already satisfied: idna<4,>=2.5 in /usr/local/lib/python3.10/dist-packages (from requests<3,>=2.27.0->tweepy) (3.4)\n"
          ]
        }
      ]
    },
    {
      "cell_type": "code",
      "source": [
        "# passa o Consumer Key e o Consumer Secret\n",
        "auth = tweepy.OAuthHandler('', '')\n",
        "# define o token de acesso\n",
        "# passa o \"Access Token\" e o \"Access Token Secret\"\n",
        "auth.set_access_token('',\t'')\n",
        "\n",
        "# cria um objeto api\n",
        "api = tweepy.API(auth)\n",
        "\n",
        "\n",
        "# obtém tweets de um usuário\n",
        "def obter_tweets(usuario, limite=500):\n",
        "\tresultados = api.user_timeline(screen_name=usuario, count=limite, tweet_mode='extended')\n",
        "\ttweets = [] # lista de tweets inicialmente vazia\n",
        "\tfor r in resultados:\n",
        "\t\t# utiliza expressão regular para remover a URL do tweet\n",
        "\t\t# http pega o início da url\n",
        "\t\t# \\S+ pega os caracteres não brancos (o final da URL)\n",
        "\t\ttweet = re.sub(r'http\\S+', '', r.full_text)\n",
        "\t\ttweets.append(tweet.replace('\\n', ' ')) # adiciona na lista\n",
        "\treturn tweets # retorna a lista de tweets\n",
        "\n",
        "#Os endereços dos usuários desejados. exemplo: @tweeter, copia apenas o 'tweeter'\n",
        "usuarios = ['LulaOficial', 'jairbolsonaro', 'CNNBrasil','GloboNews', 'folha']\n",
        "tweets = []\n",
        "#Para cada usuário obtém os tweets e armazena na lista tweets.\n",
        "for u in usuarios:\n",
        "  aux = obter_tweets(usuario=u , limite=500)\n",
        "  len(aux)\n",
        "  for t in aux:\n",
        "    tweets.append(t)\n",
        "\n",
        "#Cria uma variável panda\n",
        "tw = pd.DataFrame({'Tweets' : tweets})\n",
        "\n",
        "#Salva os tweets em um formato csv\n",
        "tw.to_csv(\"tweets_brutos.csv\")"
      ],
      "metadata": {
        "id": "DvvnNtIHpP3O"
      },
      "execution_count": null,
      "outputs": []
    },
    {
      "cell_type": "code",
      "source": [
        "##ETAPA DE APLICAÇÃO DO MODELO DE LINGUAGEM NATURAL\n",
        "\n",
        "import nltk\n",
        "import pandas as pd\n",
        "\n",
        "from nltk.classify import NaiveBayesClassifier\n",
        "from nltk.corpus import subjectivity\n",
        "from nltk.sentiment import SentimentAnalyzer\n",
        "from nltk.sentiment.util import *\n",
        "\n",
        "nltk.download('subjectivity')\n",
        "nltk.download('vader_lexicon')\n",
        "\n",
        "n_instances = 1000\n",
        "subj_docs = [(sent, 'subj') for sent in subjectivity.sents(categories='subj')[:n_instances]]\n",
        "obj_docs = [(sent, 'obj') for sent in subjectivity.sents(categories='obj')[:n_instances]]"
      ],
      "metadata": {
        "colab": {
          "base_uri": "https://localhost:8080/"
        },
        "id": "DCO9y5iFp0YU",
        "outputId": "5e043d45-cd46-43f3-881b-6a63e42c48fb"
      },
      "execution_count": 23,
      "outputs": [
        {
          "output_type": "stream",
          "name": "stderr",
          "text": [
            "[nltk_data] Downloading package subjectivity to /root/nltk_data...\n",
            "[nltk_data]   Package subjectivity is already up-to-date!\n",
            "[nltk_data] Downloading package vader_lexicon to /root/nltk_data...\n",
            "[nltk_data]   Package vader_lexicon is already up-to-date!\n"
          ]
        }
      ]
    },
    {
      "cell_type": "code",
      "source": [
        "train_subj_docs = subj_docs[:80]\n",
        "test_subj_docs = subj_docs[80:100]\n",
        "train_obj_docs = obj_docs[:80]\n",
        "test_obj_docs = obj_docs[80:100]\n",
        "training_docs = train_subj_docs+train_obj_docs\n",
        "testing_docs = test_subj_docs+test_obj_docs\n",
        "sentim_analyzer = SentimentAnalyzer()\n",
        "all_words_neg = sentim_analyzer.all_words([mark_negation(doc) for doc in training_docs])\n",
        "\n",
        "unigram_feats = sentim_analyzer.unigram_word_feats(all_words_neg, min_freq=4)\n",
        "len(unigram_feats)\n",
        "\n",
        "sentim_analyzer.add_feat_extractor(extract_unigram_feats, unigrams=unigram_feats)\n",
        "\n",
        "training_set = sentim_analyzer.apply_features(training_docs)\n",
        "test_set = sentim_analyzer.apply_features(testing_docs)\n",
        "\n",
        "trainer = NaiveBayesClassifier.train\n",
        "classifier = sentim_analyzer.train(trainer, training_set)\n",
        "\n",
        "for key,value in sorted(sentim_analyzer.evaluate(test_set).items()):\n",
        "  print('{0}: {1}'.format(key, value))"
      ],
      "metadata": {
        "colab": {
          "base_uri": "https://localhost:8080/"
        },
        "id": "lcT48ia_q6Er",
        "outputId": "949f157a-73bc-4013-cd18-2ed8b3c75621"
      },
      "execution_count": 25,
      "outputs": [
        {
          "output_type": "stream",
          "name": "stdout",
          "text": [
            "Training classifier\n",
            "Evaluating NaiveBayesClassifier results...\n",
            "Accuracy: 0.8\n",
            "F-measure [obj]: 0.8\n",
            "F-measure [subj]: 0.8\n",
            "Precision [obj]: 0.8\n",
            "Precision [subj]: 0.8\n",
            "Recall [obj]: 0.8\n",
            "Recall [subj]: 0.8\n"
          ]
        }
      ]
    },
    {
      "cell_type": "code",
      "source": [
        "from nltk.sentiment.vader import SentimentIntensityAnalyzer\n",
        "\n",
        "dataset = pd.read_csv(\"https://raw.githubusercontent.com/allysonliveira/MACHINE-LEARNING-TRABALHO-FINAL/main/database/tweets_brutos.csv\")\n",
        "sentences = dataset"
      ],
      "metadata": {
        "id": "ZpXXvoOtrUgN"
      },
      "execution_count": 77,
      "outputs": []
    },
    {
      "cell_type": "code",
      "source": [
        "sid = SentimentIntensityAnalyzer()\n",
        "\n",
        "compo = []\n",
        "negative = []\n",
        "neutro = []\n",
        "pos = []\n",
        "\n",
        "# Monta os dados para gerar o csv\n",
        "for sentence in sentences:\n",
        "    ss = sid.polarity_scores(sentence)\n",
        "    compo.append(ss[\"compound\"])\n",
        "    negative.append(ss[\"neg\"])\n",
        "    neutro.append(ss[\"neu\"])\n",
        "    pos.append(ss[\"pos\"])\n",
        "\n",
        "# Verifica se todas as listas têm o mesmo comprimento\n",
        "if len(compo) == len(negative) == len(neutro) == len(pos) == len(sentences):\n",
        "    # Cria o DataFrame\n",
        "    tweets_categorizados = pd.DataFrame({'tweets': sentences, 'compound': compo, 'negativos': negative, 'neutro': neutro, 'positivo': pos})\n",
        "    tweets_categorizados.to_csv(\"tweets_categorizados.csv\", index=False)\n",
        "else:\n",
        "    print(\"As listas não têm o mesmo comprimento.\")\n"
      ],
      "metadata": {
        "colab": {
          "base_uri": "https://localhost:8080/"
        },
        "id": "dWgELFUQrVEd",
        "outputId": "dbc5e50c-a504-4764-9b37-7ae22441ed1d"
      },
      "execution_count": 33,
      "outputs": [
        {
          "output_type": "stream",
          "name": "stdout",
          "text": [
            "As listas não têm o mesmo comprimento.\n"
          ]
        }
      ]
    },
    {
      "cell_type": "code",
      "source": [
        "##ETAPA DE APLICAÇÃO DO MODELO SOM\n",
        "\n",
        "import numpy as np\n",
        "import matplotlib.pyplot as plt\n",
        "import pandas as pd\n",
        "\n",
        "#instalando o MiniSOM\n",
        "# https://github.com/JustGlowing/minisom\n",
        "!pip install minisom"
      ],
      "metadata": {
        "colab": {
          "base_uri": "https://localhost:8080/"
        },
        "id": "csUDF0bLrW5d",
        "outputId": "9eb7c2a5-dd96-40b0-fe33-70e21e067f6c"
      },
      "execution_count": 32,
      "outputs": [
        {
          "output_type": "stream",
          "name": "stdout",
          "text": [
            "Collecting minisom\n",
            "  Downloading MiniSom-2.3.1.tar.gz (10 kB)\n",
            "  Preparing metadata (setup.py) ... \u001b[?25l\u001b[?25hdone\n",
            "Building wheels for collected packages: minisom\n",
            "  Building wheel for minisom (setup.py) ... \u001b[?25l\u001b[?25hdone\n",
            "  Created wheel for minisom: filename=MiniSom-2.3.1-py3-none-any.whl size=10589 sha256=d53bf79b324502fd3de349d02a14f03d8bb63aa23029d5288037d7956dc330b2\n",
            "  Stored in directory: /root/.cache/pip/wheels/c7/92/d2/33bbda5f86fd8830510b16aa98c8dd420129b5cb24248fd6db\n",
            "Successfully built minisom\n",
            "Installing collected packages: minisom\n",
            "Successfully installed minisom-2.3.1\n"
          ]
        }
      ]
    },
    {
      "cell_type": "code",
      "source": [
        "#Lendo a base de dados\n",
        "dataset = pd.read_csv('https://raw.githubusercontent.com/allysonliveira/MACHINE-LEARNING-TRABALHO-FINAL/main/database/tweets_categorizados.csv')\n",
        "\n",
        "dataset.head( 10 )"
      ],
      "metadata": {
        "colab": {
          "base_uri": "https://localhost:8080/",
          "height": 363
        },
        "id": "j9Wujw9otmjZ",
        "outputId": "4bb931ce-62ec-4699-858f-a04b2d75d65f"
      },
      "execution_count": 78,
      "outputs": [
        {
          "output_type": "execute_result",
          "data": {
            "text/plain": [
              "   Unnamed: 0                                             tweets  compound  \\\n",
              "0           0                                            \"teste\"    0.0000   \n",
              "1           1  RT @WhiteHouse: LIVE: President @realDonaldTru...    0.2960   \n",
              "2           2  ...love to have Mike Pompeo, Rick Perry, Mick ...   -0.7177   \n",
              "3           3  ...lawyer has already stated that I did nothin...    0.3724   \n",
              "4           4  The D.C. Wolves and Fake News Media are readin...   -0.7269   \n",
              "5           5  RT @DailyCaller: President @realDonaldTrump si...    0.0000   \n",
              "6           6  RT @DailyCaller: Adam Schiff Challenger Jennif...   -0.6249   \n",
              "7           7  RT @DailyCaller: The Tide Is Turning Against D...    0.0000   \n",
              "8           8  RT @DailyCaller: Poll: Independents Flip On Im...    0.0000   \n",
              "9           9  When the Military rips down an old &amp; badly...    0.3707   \n",
              "\n",
              "   negativos  neutro  positivo  \n",
              "0      0.000   1.000     0.000  \n",
              "1      0.000   0.804     0.196  \n",
              "2      0.140   0.860     0.000  \n",
              "3      0.000   0.943     0.057  \n",
              "4      0.165   0.787     0.048  \n",
              "5      0.000   1.000     0.000  \n",
              "6      0.242   0.693     0.065  \n",
              "7      0.000   1.000     0.000  \n",
              "8      0.000   1.000     0.000  \n",
              "9      0.100   0.759     0.141  "
            ],
            "text/html": [
              "\n",
              "  <div id=\"df-43559200-1ad6-4424-bfc7-a06b36dd0ec1\">\n",
              "    <div class=\"colab-df-container\">\n",
              "      <div>\n",
              "<style scoped>\n",
              "    .dataframe tbody tr th:only-of-type {\n",
              "        vertical-align: middle;\n",
              "    }\n",
              "\n",
              "    .dataframe tbody tr th {\n",
              "        vertical-align: top;\n",
              "    }\n",
              "\n",
              "    .dataframe thead th {\n",
              "        text-align: right;\n",
              "    }\n",
              "</style>\n",
              "<table border=\"1\" class=\"dataframe\">\n",
              "  <thead>\n",
              "    <tr style=\"text-align: right;\">\n",
              "      <th></th>\n",
              "      <th>Unnamed: 0</th>\n",
              "      <th>tweets</th>\n",
              "      <th>compound</th>\n",
              "      <th>negativos</th>\n",
              "      <th>neutro</th>\n",
              "      <th>positivo</th>\n",
              "    </tr>\n",
              "  </thead>\n",
              "  <tbody>\n",
              "    <tr>\n",
              "      <th>0</th>\n",
              "      <td>0</td>\n",
              "      <td>\"teste\"</td>\n",
              "      <td>0.0000</td>\n",
              "      <td>0.000</td>\n",
              "      <td>1.000</td>\n",
              "      <td>0.000</td>\n",
              "    </tr>\n",
              "    <tr>\n",
              "      <th>1</th>\n",
              "      <td>1</td>\n",
              "      <td>RT @WhiteHouse: LIVE: President @realDonaldTru...</td>\n",
              "      <td>0.2960</td>\n",
              "      <td>0.000</td>\n",
              "      <td>0.804</td>\n",
              "      <td>0.196</td>\n",
              "    </tr>\n",
              "    <tr>\n",
              "      <th>2</th>\n",
              "      <td>2</td>\n",
              "      <td>...love to have Mike Pompeo, Rick Perry, Mick ...</td>\n",
              "      <td>-0.7177</td>\n",
              "      <td>0.140</td>\n",
              "      <td>0.860</td>\n",
              "      <td>0.000</td>\n",
              "    </tr>\n",
              "    <tr>\n",
              "      <th>3</th>\n",
              "      <td>3</td>\n",
              "      <td>...lawyer has already stated that I did nothin...</td>\n",
              "      <td>0.3724</td>\n",
              "      <td>0.000</td>\n",
              "      <td>0.943</td>\n",
              "      <td>0.057</td>\n",
              "    </tr>\n",
              "    <tr>\n",
              "      <th>4</th>\n",
              "      <td>4</td>\n",
              "      <td>The D.C. Wolves and Fake News Media are readin...</td>\n",
              "      <td>-0.7269</td>\n",
              "      <td>0.165</td>\n",
              "      <td>0.787</td>\n",
              "      <td>0.048</td>\n",
              "    </tr>\n",
              "    <tr>\n",
              "      <th>5</th>\n",
              "      <td>5</td>\n",
              "      <td>RT @DailyCaller: President @realDonaldTrump si...</td>\n",
              "      <td>0.0000</td>\n",
              "      <td>0.000</td>\n",
              "      <td>1.000</td>\n",
              "      <td>0.000</td>\n",
              "    </tr>\n",
              "    <tr>\n",
              "      <th>6</th>\n",
              "      <td>6</td>\n",
              "      <td>RT @DailyCaller: Adam Schiff Challenger Jennif...</td>\n",
              "      <td>-0.6249</td>\n",
              "      <td>0.242</td>\n",
              "      <td>0.693</td>\n",
              "      <td>0.065</td>\n",
              "    </tr>\n",
              "    <tr>\n",
              "      <th>7</th>\n",
              "      <td>7</td>\n",
              "      <td>RT @DailyCaller: The Tide Is Turning Against D...</td>\n",
              "      <td>0.0000</td>\n",
              "      <td>0.000</td>\n",
              "      <td>1.000</td>\n",
              "      <td>0.000</td>\n",
              "    </tr>\n",
              "    <tr>\n",
              "      <th>8</th>\n",
              "      <td>8</td>\n",
              "      <td>RT @DailyCaller: Poll: Independents Flip On Im...</td>\n",
              "      <td>0.0000</td>\n",
              "      <td>0.000</td>\n",
              "      <td>1.000</td>\n",
              "      <td>0.000</td>\n",
              "    </tr>\n",
              "    <tr>\n",
              "      <th>9</th>\n",
              "      <td>9</td>\n",
              "      <td>When the Military rips down an old &amp;amp; badly...</td>\n",
              "      <td>0.3707</td>\n",
              "      <td>0.100</td>\n",
              "      <td>0.759</td>\n",
              "      <td>0.141</td>\n",
              "    </tr>\n",
              "  </tbody>\n",
              "</table>\n",
              "</div>\n",
              "      <button class=\"colab-df-convert\" onclick=\"convertToInteractive('df-43559200-1ad6-4424-bfc7-a06b36dd0ec1')\"\n",
              "              title=\"Convert this dataframe to an interactive table.\"\n",
              "              style=\"display:none;\">\n",
              "        \n",
              "  <svg xmlns=\"http://www.w3.org/2000/svg\" height=\"24px\"viewBox=\"0 0 24 24\"\n",
              "       width=\"24px\">\n",
              "    <path d=\"M0 0h24v24H0V0z\" fill=\"none\"/>\n",
              "    <path d=\"M18.56 5.44l.94 2.06.94-2.06 2.06-.94-2.06-.94-.94-2.06-.94 2.06-2.06.94zm-11 1L8.5 8.5l.94-2.06 2.06-.94-2.06-.94L8.5 2.5l-.94 2.06-2.06.94zm10 10l.94 2.06.94-2.06 2.06-.94-2.06-.94-.94-2.06-.94 2.06-2.06.94z\"/><path d=\"M17.41 7.96l-1.37-1.37c-.4-.4-.92-.59-1.43-.59-.52 0-1.04.2-1.43.59L10.3 9.45l-7.72 7.72c-.78.78-.78 2.05 0 2.83L4 21.41c.39.39.9.59 1.41.59.51 0 1.02-.2 1.41-.59l7.78-7.78 2.81-2.81c.8-.78.8-2.07 0-2.86zM5.41 20L4 18.59l7.72-7.72 1.47 1.35L5.41 20z\"/>\n",
              "  </svg>\n",
              "      </button>\n",
              "      \n",
              "  <style>\n",
              "    .colab-df-container {\n",
              "      display:flex;\n",
              "      flex-wrap:wrap;\n",
              "      gap: 12px;\n",
              "    }\n",
              "\n",
              "    .colab-df-convert {\n",
              "      background-color: #E8F0FE;\n",
              "      border: none;\n",
              "      border-radius: 50%;\n",
              "      cursor: pointer;\n",
              "      display: none;\n",
              "      fill: #1967D2;\n",
              "      height: 32px;\n",
              "      padding: 0 0 0 0;\n",
              "      width: 32px;\n",
              "    }\n",
              "\n",
              "    .colab-df-convert:hover {\n",
              "      background-color: #E2EBFA;\n",
              "      box-shadow: 0px 1px 2px rgba(60, 64, 67, 0.3), 0px 1px 3px 1px rgba(60, 64, 67, 0.15);\n",
              "      fill: #174EA6;\n",
              "    }\n",
              "\n",
              "    [theme=dark] .colab-df-convert {\n",
              "      background-color: #3B4455;\n",
              "      fill: #D2E3FC;\n",
              "    }\n",
              "\n",
              "    [theme=dark] .colab-df-convert:hover {\n",
              "      background-color: #434B5C;\n",
              "      box-shadow: 0px 1px 3px 1px rgba(0, 0, 0, 0.15);\n",
              "      filter: drop-shadow(0px 1px 2px rgba(0, 0, 0, 0.3));\n",
              "      fill: #FFFFFF;\n",
              "    }\n",
              "  </style>\n",
              "\n",
              "      <script>\n",
              "        const buttonEl =\n",
              "          document.querySelector('#df-43559200-1ad6-4424-bfc7-a06b36dd0ec1 button.colab-df-convert');\n",
              "        buttonEl.style.display =\n",
              "          google.colab.kernel.accessAllowed ? 'block' : 'none';\n",
              "\n",
              "        async function convertToInteractive(key) {\n",
              "          const element = document.querySelector('#df-43559200-1ad6-4424-bfc7-a06b36dd0ec1');\n",
              "          const dataTable =\n",
              "            await google.colab.kernel.invokeFunction('convertToInteractive',\n",
              "                                                     [key], {});\n",
              "          if (!dataTable) return;\n",
              "\n",
              "          const docLinkHtml = 'Like what you see? Visit the ' +\n",
              "            '<a target=\"_blank\" href=https://colab.research.google.com/notebooks/data_table.ipynb>data table notebook</a>'\n",
              "            + ' to learn more about interactive tables.';\n",
              "          element.innerHTML = '';\n",
              "          dataTable['output_type'] = 'display_data';\n",
              "          await google.colab.output.renderOutput(dataTable, element);\n",
              "          const docLink = document.createElement('div');\n",
              "          docLink.innerHTML = docLinkHtml;\n",
              "          element.appendChild(docLink);\n",
              "        }\n",
              "      </script>\n",
              "    </div>\n",
              "  </div>\n",
              "  "
            ]
          },
          "metadata": {},
          "execution_count": 78
        }
      ]
    },
    {
      "cell_type": "code",
      "source": [
        "#coleta de dados necessários tabelados acima\n",
        "X = dataset.iloc[:,[2,3,4,5]].values\n",
        "\n",
        "\n",
        "#tamanho da rede\n",
        "tx = 4\n",
        "ty = 4\n",
        "\n",
        "#treinamento do modelo SOM\n",
        "from minisom import MiniSom\n",
        "som = MiniSom(x = tx, y = ty, input_len = 4, sigma = 1.0, learning_rate = 0.5)\n",
        "som.random_weights_init(X)\n",
        "som.train_random(data = X, num_iteration = 1000)\n",
        "\n",
        "#contagem dos negativos, neutros e positivo\n",
        "negativo = [-0.6229, 1., 0., 0.] #Frase: BAD!!\n",
        "neutro   = [0., 0., 1., 0.]\n",
        "positivo = [0.6467, 0., 0., 1.] #Frase: HAPPY!!"
      ],
      "metadata": {
        "id": "NxtHZDw2t0k8"
      },
      "execution_count": 81,
      "outputs": []
    },
    {
      "cell_type": "code",
      "source": [
        "#PLOTAGEM DO GRÁFICO\n",
        "\n",
        "import matplotlib\n",
        "import matplotlib.pyplot as plt\n",
        "\n",
        "# matriz de zeros para o contador de totais\n",
        "MT = np.zeros((tx,ty))\n",
        "\n",
        "fig, ax = plt.subplots()\n",
        "ax.set_title('Distribuição agrupada dos tweets categorizados')\n",
        "\n",
        "for i in X:\n",
        "  pos = som.winner(i)\n",
        "  ax.plot(pos[0], pos[1], 'o' ,color=\"black\", markersize=10)\n",
        "  MT[pos] += 1\n",
        "\n",
        "#plota um teeter 100% Positivo\n",
        "pos = som.winner(positivo)\n",
        "ax.plot(pos[0], pos[1], 'o' ,color=\"green\", markersize=20)\n",
        "\n",
        "#plota um tweeter 100% negativo\n",
        "pos = som.winner(negativo)\n",
        "ax.plot(pos[0], pos[1], 'o' ,color=\"red\", markersize=20)\n",
        "\n",
        "#plota um tweeter 100% neutro\n",
        "pos = som.winner(neutro)\n",
        "ax.plot(pos[0], pos[1], 'o' ,color=\"blue\", markersize=20 )\n",
        "\n",
        "plt.show()"
      ],
      "metadata": {
        "colab": {
          "base_uri": "https://localhost:8080/",
          "height": 452
        },
        "id": "aXEXSqPRuIAH",
        "outputId": "3c700118-de0d-441e-bf00-dff55c1bc160"
      },
      "execution_count": 83,
      "outputs": [
        {
          "output_type": "display_data",
          "data": {
            "text/plain": [
              "<Figure size 640x480 with 1 Axes>"
            ],
            "image/png": "[encoded data removed]"
          },
          "metadata": {}
        }
      ]
    },
    {
      "cell_type": "code",
      "source": [
        "print(\"Total:\")\n",
        "print(MT)"
      ],
      "metadata": {
        "colab": {
          "base_uri": "https://localhost:8080/"
        },
        "id": "zzjlW9s_ycE6",
        "outputId": "f530d983-2c50-4fce-ef41-6cd9cc5d1684"
      },
      "execution_count": 84,
      "outputs": [
        {
          "output_type": "stream",
          "name": "stdout",
          "text": [
            "Total:\n",
            "[[ 18.  80.  91.  98.]\n",
            " [ 17.  22.  48.  38.]\n",
            " [ 27.  43.  87. 265.]\n",
            " [105. 113.  99.  48.]]\n"
          ]
        }
      ]
    },
    {
      "cell_type": "code",
      "source": [
        "##ANALISES INDIVIDUAIS\n",
        "#dataset = pd.read_csv('https://raw.githubusercontent.com/alyssonolima/Projeto-Virtual-Mood-Identifier/master/Dados/tweets_Donald_Trump_categorizados.csv')\n",
        "dataset = pd.read_csv('https://raw.githubusercontent.com/alyssonolima/Projeto-Virtual-Mood-Identifier/master/Dados/tweets_Barack_Obama_categorizados.csv')\n",
        "\n",
        "#coleta de dados necessários tabelados acima\n",
        "X = dataset.iloc[:,[2,3,4,5]].values\n",
        "\n",
        "#tamanho da rede\n",
        "tx = 4\n",
        "ty = 4\n",
        "\n",
        "#treinamento do modelo SOM\n",
        "from minisom import MiniSom\n",
        "som = MiniSom(x = tx, y = ty, input_len = 4, sigma = 1.0, learning_rate = 0.5)\n",
        "som.random_weights_init(X)\n",
        "som.train_random(data = X, num_iteration = 1000)\n",
        "\n",
        "fig, ax = plt.subplots()\n",
        "ax.set_title('Distribuição agrupada dos tweets do Obama')\n",
        "\n",
        "for i in X:\n",
        "  pos = som.winner(i)\n",
        "  ax.plot(pos[0], pos[1], 'o' ,color=\"black\", markersize=10)\n",
        "  MT[pos] += 1\n",
        "\n",
        "#plota um teeter 100% Positivo\n",
        "pos = som.winner(positivo)\n",
        "ax.plot(pos[0], pos[1], 'o' ,color=\"green\", markersize=20)\n",
        "\n",
        "#plota um tweeter 100% negativo\n",
        "pos = som.winner(negativo)\n",
        "ax.plot(pos[0], pos[1], 'o' ,color=\"red\", markersize=20)\n",
        "\n",
        "#plota um tweeter 100% neutro\n",
        "pos = som.winner(neutro)\n",
        "ax.plot(pos[0], pos[1], 'o' ,color=\"blue\", markersize=20 )\n",
        "\n",
        "plt.show()"
      ],
      "metadata": {
        "colab": {
          "base_uri": "https://localhost:8080/",
          "height": 452
        },
        "id": "XSCfkoHsvFT_",
        "outputId": "adae8028-6221-425f-ca64-2e444e2444e5"
      },
      "execution_count": 85,
      "outputs": [
        {
          "output_type": "display_data",
          "data": {
            "text/plain": [
              "<Figure size 640x480 with 1 Axes>"
            ],
            "image/png": "[encoded data removed]"
          },
          "metadata": {}
        }
      ]
    }
  ]
}
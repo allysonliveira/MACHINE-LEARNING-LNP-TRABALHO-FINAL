{
  "nbformat": 4,
  "nbformat_minor": 0,
  "metadata": {
    "colab": {
      "provenance": []
    },
    "kernelspec": {
      "name": "python3",
      "display_name": "Python 3"
    },
    "language_info": {
      "name": "python"
    }
  },
  "cells": [
    {
      "cell_type": "markdown",
      "source": [
        "## Trabalho Final - Baseado em Processamento de Linguagem Natural\n",
        "\n",
        "* A base de dados contém os posts de usuários de twitter, visa analisar o comportamente do usuário da rede social através de suas postagens e classifica-los como positivos, negativos e neutros.\n",
        "\n",
        "* Este presente trabalho apresenta a etapa de extração dos dados, análise sentimental através do método NLP, e por fim, utilizamos o modelo neural SOM para agrupar os dados e tomar as conclusões.\n",
        "\n",
        "### Referências\n",
        "- Base de dados:\n",
        "https://twitter.com/\n",
        "https://www.kaggle.com/\n",
        https://www.kaggle.com/datasets/tleonel/lula-bolsonaro\n",
        "- Código de referência:\n",
        "https://github.com/allysonliveira/MACHINE-LEARNING-TRABALHO-FINAL\n",
        "https://colab.research.google.com/drive/1kqgBELk-QMU9hP13sjd75kZbLn-LeCrw?usp=sharing\n"
      ],
      "metadata": {
        "id": "KzBmya6uWoH4"
      }
    },
    {
      "cell_type": "code",
      "source": [
        "##ETAPA DE CRIAÇÃO DA BASE DE DADOS\n",
        "#Implementação da mineração das mensagens dos usuários do tweet e para criação de um arquivo .csv\n",
        "\n",
        "!pip install snscrape\n",
        "!pip install tweepy\n",
        "\n",
        "import tweepy\n",
        "import snscrape.modules.twitter as sntwitter\n",
        "import pandas as pd\n"
      ],
      "metadata": {
        "colab": {
          "base_uri": "https://localhost:8080/"
        },
        "id": "ntSatCyrkMKi",
        "outputId": "1cac3225-f838-4dd6-bf14-b289fff98b6f"
      },
      "execution_count": null,
      "outputs": [
        {
          "output_type": "stream",
          "name": "stdout",
          "text": [
            "Collecting snscrape\n",
            "  Downloading snscrape-0.7.0.20230622-py3-none-any.whl (74 kB)\n",
            "\u001b[?25l     \u001b[90m━━━━━━━━━━━━━━━━━━━━━━━━━━━━━━━━━━━━━━━━\u001b[0m \u001b[32m0.0/74.8 kB\u001b[0m \u001b[31m?\u001b[0m eta \u001b[36m-:--:--\u001b[0m\r\u001b[2K     \u001b[90m━━━━━━━━━━━━━━━━━━━━━━━━━━━━━━━━━━━━━━━━\u001b[0m \u001b[32m74.8/74.8 kB\u001b[0m \u001b[31m2.9 MB/s\u001b[0m eta \u001b[36m0:00:00\u001b[0m\n",
            "\u001b[?25hRequirement already satisfied: requests[socks] in /usr/local/lib/python3.10/dist-packages (from snscrape) (2.27.1)\n",
            "Requirement already satisfied: lxml in /usr/local/lib/python3.10/dist-packages (from snscrape) (4.9.3)\n",
            "Requirement already satisfied: beautifulsoup4 in /usr/local/lib/python3.10/dist-packages (from snscrape) (4.11.2)\n",
            "Requirement already satisfied: filelock in /usr/local/lib/python3.10/dist-packages (from snscrape) (3.12.2)\n",
            "Requirement already satisfied: soupsieve>1.2 in /usr/local/lib/python3.10/dist-packages (from beautifulsoup4->snscrape) (2.4.1)\n",
            "Requirement already satisfied: urllib3<1.27,>=1.21.1 in /usr/local/lib/python3.10/dist-packages (from requests[socks]->snscrape) (1.26.16)\n",
            "Requirement already satisfied: certifi>=2017.4.17 in /usr/local/lib/python3.10/dist-packages (from requests[socks]->snscrape) (2023.5.7)\n",
            "Requirement already satisfied: charset-normalizer~=2.0.0 in /usr/local/lib/python3.10/dist-packages (from requests[socks]->snscrape) (2.0.12)\n",
            "Requirement already satisfied: idna<4,>=2.5 in /usr/local/lib/python3.10/dist-packages (from requests[socks]->snscrape) (3.4)\n",
            "Requirement already satisfied: PySocks!=1.5.7,>=1.5.6 in /usr/local/lib/python3.10/dist-packages (from requests[socks]->snscrape) (1.7.1)\n",
            "Installing collected packages: snscrape\n",
            "Successfully installed snscrape-0.7.0.20230622\n",
            "Requirement already satisfied: tweepy in /usr/local/lib/python3.10/dist-packages (4.13.0)\n",
            "Requirement already satisfied: oauthlib<4,>=3.2.0 in /usr/local/lib/python3.10/dist-packages (from tweepy) (3.2.2)\n",
            "Requirement already satisfied: requests<3,>=2.27.0 in /usr/local/lib/python3.10/dist-packages (from tweepy) (2.27.1)\n",
            "Requirement already satisfied: requests-oauthlib<2,>=1.2.0 in /usr/local/lib/python3.10/dist-packages (from tweepy) (1.3.1)\n",
            "Requirement already satisfied: urllib3<1.27,>=1.21.1 in /usr/local/lib/python3.10/dist-packages (from requests<3,>=2.27.0->tweepy) (1.26.16)\n",
            "Requirement already satisfied: certifi>=2017.4.17 in /usr/local/lib/python3.10/dist-packages (from requests<3,>=2.27.0->tweepy) (2023.5.7)\n",
            "Requirement already satisfied: charset-normalizer~=2.0.0 in /usr/local/lib/python3.10/dist-packages (from requests<3,>=2.27.0->tweepy) (2.0.12)\n",
            "Requirement already satisfied: idna<4,>=2.5 in /usr/local/lib/python3.10/dist-packages (from requests<3,>=2.27.0->tweepy) (3.4)\n"
          ]
        }
      ]
    },
    {
      "cell_type": "code",
      "source": [
        "# passa o Consumer Key e o Consumer Secret\n",
        "auth = tweepy.OAuthHandler('', '')\n",
        "# define o token de acesso\n",
        "# passa o \"Access Token\" e o \"Access Token Secret\"\n",
        "auth.set_access_token('',\t'')\n",
        "\n",
        "# cria um objeto api\n",
        "api = tweepy.API(auth)\n",
        "\n",
        "# obtém tweets de um usuário\n",
        "def obter_tweets(usuario, limite=500):\n",
        "\tresultados = api.user_timeline(screen_name=usuario, count=limite, tweet_mode='extended')\n",
        "\ttweets = [] # lista de tweets inicialmente vazia\n",
        "\tfor r in resultados:\n",
        "\t\t# utiliza expressão regular para remover a URL do tweet\n",
        "\t\t# http pega o início da url\n",
        "\t\t# \\S+ pega os caracteres não brancos (o final da URL)\n",
        "\t\ttweet = re.sub(r'http\\S+', '', r.full_text)\n",
        "\t\ttweets.append(tweet.replace('\\n', ' ')) # adiciona na lista\n",
        "\treturn tweets # retorna a lista de tweets\n",
        "\n",
        "#Os endereços dos usuários desejados. exemplo: @tweeter, copia apenas o 'tweeter'\n",
        "usuarios = ['LulaOficial', 'jairbolsonaro', 'CNNBrasil','GloboNews', 'folha']\n",
        "tweets = []\n",
        "#Para cada usuário obtém os tweets e armazena na lista tweets.\n",
        "for u in usuarios:\n",
        "  aux = obter_tweets(usuario=u , limite=500)\n",
        "  len(aux)\n",
        "  for t in aux:\n",
        "    tweets.append(t)\n",
        "\n",
        "#Cria uma variável panda\n",
        "tw = pd.DataFrame({'Tweets' : tweets})\n",
        "\n",
        "#Salva os tweets em um formato csv\n",
        "tw.to_csv(\"tweets_brutos.csv\")"
      ],
      "metadata": {
        "id": "y61Vg5U7S2SD"
      },
      "execution_count": null,
      "outputs": []
    },
    {
      "cell_type": "code",
      "source": [
        "##ETAPA DE APLICAÇÃO DO MODELO DE LINGUAGEM NATURAL\n",
        "!pip install nltk\n",
        "import nltk\n",
        "import pandas as pd\n",
        "\n",
        "from nltk.classify import NaiveBayesClassifier\n",
        "from nltk.corpus import subjectivity\n",
        "from nltk.sentiment import SentimentAnalyzer\n",
        "from nltk.sentiment.util import *\n",
        "\n",
        "nltk.download('subjectivity')\n",
        "nltk.download('vader_lexicon')\n",
        "\n",
        "n_instances = 1000\n",
        "subj_docs = [(sent, 'subj') for sent in subjectivity.sents(categories='subj')[:n_instances]]\n",
        "obj_docs = [(sent, 'obj') for sent in subjectivity.sents(categories='obj')[:n_instances]]"
      ],
      "metadata": {
        "colab": {
          "base_uri": "https://localhost:8080/"
        },
        "id": "DCO9y5iFp0YU",
        "outputId": "d5055c95-f9d6-4ac6-b457-40550f72eff1"
      },
      "execution_count": null,
      "outputs": [
        {
          "output_type": "stream",
          "name": "stdout",
          "text": [
            "Requirement already satisfied: nltk in /usr/local/lib/python3.10/dist-packages (3.8.1)\n",
            "Requirement already satisfied: click in /usr/local/lib/python3.10/dist-packages (from nltk) (8.1.4)\n",
            "Requirement already satisfied: joblib in /usr/local/lib/python3.10/dist-packages (from nltk) (1.3.1)\n",
            "Requirement already satisfied: regex>=2021.8.3 in /usr/local/lib/python3.10/dist-packages (from nltk) (2022.10.31)\n",
            "Requirement already satisfied: tqdm in /usr/local/lib/python3.10/dist-packages (from nltk) (4.65.0)\n"
          ]
        },
        {
          "output_type": "stream",
          "name": "stderr",
          "text": [
            "[nltk_data] Downloading package subjectivity to /root/nltk_data...\n",
            "[nltk_data]   Unzipping corpora/subjectivity.zip.\n",
            "[nltk_data] Downloading package vader_lexicon to /root/nltk_data...\n"
          ]
        }
      ]
    },
    {
      "cell_type": "code",
      "source": [
        "train_subj_docs = subj_docs[:80]\n",
        "test_subj_docs = subj_docs[80:100]\n",
        "train_obj_docs = obj_docs[:80]\n",
        "test_obj_docs = obj_docs[80:100]\n",
        "training_docs = train_subj_docs+train_obj_docs\n",
        "testing_docs = test_subj_docs+test_obj_docs\n",
        "sentim_analyzer = SentimentAnalyzer()\n",
        "all_words_neg = sentim_analyzer.all_words([mark_negation(doc) for doc in training_docs])\n",
        "\n",
        "unigram_feats = sentim_analyzer.unigram_word_feats(all_words_neg, min_freq=4)\n",
        "len(unigram_feats)\n",
        "\n",
        "sentim_analyzer.add_feat_extractor(extract_unigram_feats, unigrams=unigram_feats)\n",
        "\n",
        "training_set = sentim_analyzer.apply_features(training_docs)\n",
        "test_set = sentim_analyzer.apply_features(testing_docs)\n",
        "\n",
        "trainer = NaiveBayesClassifier.train\n",
        "classifier = sentim_analyzer.train(trainer, training_set)\n",
        "\n",
        "for key,value in sorted(sentim_analyzer.evaluate(test_set).items()):\n",
        "  print('{0}: {1}'.format(key, value))"
      ],
      "metadata": {
        "colab": {
          "base_uri": "https://localhost:8080/"
        },
        "id": "lcT48ia_q6Er",
        "outputId": "64da52f6-8ed4-420f-9d7b-a28485ee7a30"
      },
      "execution_count": null,
      "outputs": [
        {
          "output_type": "stream",
          "name": "stdout",
          "text": [
            "Training classifier\n",
            "Evaluating NaiveBayesClassifier results...\n",
            "Accuracy: 0.8\n",
            "F-measure [obj]: 0.8\n",
            "F-measure [subj]: 0.8\n",
            "Precision [obj]: 0.8\n",
            "Precision [subj]: 0.8\n",
            "Recall [obj]: 0.8\n",
            "Recall [subj]: 0.8\n"
          ]
        }
      ]
    },
    {
      "cell_type": "code",
      "source": [
        "from nltk.sentiment.vader import SentimentIntensityAnalyzer\n",
        "\n",
        "dataset = pd.read_csv(\"https://raw.githubusercontent.com/allysonliveira/MACHINE-LEARNING-TRABALHO-FINAL/main/database/tweets_brutos.csv\")\n",
        "sentences = dataset"
      ],
      "metadata": {
        "id": "ZpXXvoOtrUgN"
      },
      "execution_count": null,
      "outputs": []
    },
    {
      "cell_type": "code",
      "source": [
        "sid = SentimentIntensityAnalyzer()\n",
        "\n",
        "compo = []\n",
        "negative = []\n",
        "neutro = []\n",
        "pos = []\n",
        "\n",
        "# Monta os dados para gerar o csv\n",
        "for sentence in sentences:\n",
        "    ss = sid.polarity_scores(sentence)\n",
        "    compo.append(ss[\"compound\"])\n",
        "    negative.append(ss[\"neg\"])\n",
        "    neutro.append(ss[\"neu\"])\n",
        "    pos.append(ss[\"pos\"])\n",
        "\n",
        "# Verifica se todas as listas têm o mesmo comprimento\n",
        "if len(compo) == len(negative) == len(neutro) == len(pos) == len(sentences):\n",
        "    # Cria o DataFrame\n",
        "    tweets_categorizados = pd.DataFrame({'tweets': sentences, 'compound': compo, 'negativos': negative, 'neutro': neutro, 'positivo': pos})\n",
        "    tweets_categorizados.to_csv(\"tweets_categorizados.csv\", index=False)\n",
        "else:\n",
        "    print(\"As listas não têm o mesmo comprimento.\")\n"
      ],
      "metadata": {
        "colab": {
          "base_uri": "https://localhost:8080/"
        },
        "id": "dWgELFUQrVEd",
        "outputId": "8a678d9c-90e6-4d4c-cc51-927e9afe021c"
      },
      "execution_count": null,
      "outputs": [
        {
          "output_type": "stream",
          "name": "stdout",
          "text": [
            "As listas não têm o mesmo comprimento.\n"
          ]
        }
      ]
    },
    {
      "cell_type": "code",
      "source": [
        "##ETAPA DE APLICAÇÃO DO MODELO SOM\n",
        "\n",
        "import numpy as np\n",
        "import matplotlib.pyplot as plt\n",
        "import pandas as pd\n",
        "\n",
        "#instalando o MiniSOM\n",
        "# https://github.com/JustGlowing/minisom\n",
        "!pip install minisom"
      ],
      "metadata": {
        "colab": {
          "base_uri": "https://localhost:8080/"
        },
        "id": "csUDF0bLrW5d",
        "outputId": "ab8859b4-7de4-4e78-a3ac-ccaf2d07764f"
      },
      "execution_count": null,
      "outputs": [
        {
          "output_type": "stream",
          "name": "stdout",
          "text": [
            "Collecting minisom\n",
            "  Downloading MiniSom-2.3.1.tar.gz (10 kB)\n",
            "  Preparing metadata (setup.py) ... \u001b[?25l\u001b[?25hdone\n",
            "Building wheels for collected packages: minisom\n",
            "  Building wheel for minisom (setup.py) ... \u001b[?25l\u001b[?25hdone\n",
            "  Created wheel for minisom: filename=MiniSom-2.3.1-py3-none-any.whl size=10589 sha256=1b0628ad6cb0ed5ba3ea4909f4748475acd16d082230a4bf73417d28c06f1875\n",
            "  Stored in directory: /root/.cache/pip/wheels/c7/92/d2/33bbda5f86fd8830510b16aa98c8dd420129b5cb24248fd6db\n",
            "Successfully built minisom\n",
            "Installing collected packages: minisom\n",
            "Successfully installed minisom-2.3.1\n"
          ]
        }
      ]
    },
    {
      "cell_type": "code",
      "source": [
        "#Lendo a base de dados\n",
        "dataset = pd.read_csv('https://raw.githubusercontent.com/allysonliveira/MACHINE-LEARNING-TRABALHO-FINAL/main/database/tweets_categorizados.csv')\n",
        "\n",
        "dataset.head( 10 )"
      ],
      "metadata": {
        "colab": {
          "base_uri": "https://localhost:8080/",
          "height": 363
        },
        "id": "j9Wujw9otmjZ",
        "outputId": "3e15cbdc-af6b-4580-a567-d75e364bc2da"
      },
      "execution_count": null,
      "outputs": [
        {
          "output_type": "execute_result",
          "data": {
            "text/plain": [
              "   Unnamed: 0                                             tweets  compound  \\\n",
              "0           0                                            \"teste\"    0.0000   \n",
              "1           1  RT @WhiteHouse: LIVE: President @realDonaldTru...    0.2960   \n",
              "2           2  ...love to have Mike Pompeo, Rick Perry, Mick ...   -0.7177   \n",
              "3           3  ...lawyer has already stated that I did nothin...    0.3724   \n",
              "4           4  The D.C. Wolves and Fake News Media are readin...   -0.7269   \n",
              "5           5  RT @DailyCaller: President @realDonaldTrump si...    0.0000   \n",
              "6           6  RT @DailyCaller: Adam Schiff Challenger Jennif...   -0.6249   \n",
              "7           7  RT @DailyCaller: The Tide Is Turning Against D...    0.0000   \n",
              "8           8  RT @DailyCaller: Poll: Independents Flip On Im...    0.0000   \n",
              "9           9  When the Military rips down an old &amp; badly...    0.3707   \n",
              "\n",
              "   negativos  neutro  positivo  \n",
              "0      0.000   1.000     0.000  \n",
              "1      0.000   0.804     0.196  \n",
              "2      0.140   0.860     0.000  \n",
              "3      0.000   0.943     0.057  \n",
              "4      0.165   0.787     0.048  \n",
              "5      0.000   1.000     0.000  \n",
              "6      0.242   0.693     0.065  \n",
              "7      0.000   1.000     0.000  \n",
              "8      0.000   1.000     0.000  \n",
              "9      0.100   0.759     0.141  "
            ],
            "text/html": [
              "\n",
              "\n",
              "  <div id=\"df-202744fe-db06-4003-85fa-7768096d3146\">\n",
              "    <div class=\"colab-df-container\">\n",
              "      <div>\n",
              "<style scoped>\n",
              "    .dataframe tbody tr th:only-of-type {\n",
              "        vertical-align: middle;\n",
              "    }\n",
              "\n",
              "    .dataframe tbody tr th {\n",
              "        vertical-align: top;\n",
              "    }\n",
              "\n",
              "    .dataframe thead th {\n",
              "        text-align: right;\n",
              "    }\n",
              "</style>\n",
              "<table border=\"1\" class=\"dataframe\">\n",
              "  <thead>\n",
              "    <tr style=\"text-align: right;\">\n",
              "      <th></th>\n",
              "      <th>Unnamed: 0</th>\n",
              "      <th>tweets</th>\n",
              "      <th>compound</th>\n",
              "      <th>negativos</th>\n",
              "      <th>neutro</th>\n",
              "      <th>positivo</th>\n",
              "    </tr>\n",
              "  </thead>\n",
              "  <tbody>\n",
              "    <tr>\n",
              "      <th>0</th>\n",
              "      <td>0</td>\n",
              "      <td>\"teste\"</td>\n",
              "      <td>0.0000</td>\n",
              "      <td>0.000</td>\n",
              "      <td>1.000</td>\n",
              "      <td>0.000</td>\n",
              "    </tr>\n",
              "    <tr>\n",
              "      <th>1</th>\n",
              "      <td>1</td>\n",
              "      <td>RT @WhiteHouse: LIVE: President @realDonaldTru...</td>\n",
              "      <td>0.2960</td>\n",
              "      <td>0.000</td>\n",
              "      <td>0.804</td>\n",
              "      <td>0.196</td>\n",
              "    </tr>\n",
              "    <tr>\n",
              "      <th>2</th>\n",
              "      <td>2</td>\n",
              "      <td>...love to have Mike Pompeo, Rick Perry, Mick ...</td>\n",
              "      <td>-0.7177</td>\n",
              "      <td>0.140</td>\n",
              "      <td>0.860</td>\n",
              "      <td>0.000</td>\n",
              "    </tr>\n",
              "    <tr>\n",
              "      <th>3</th>\n",
              "      <td>3</td>\n",
              "      <td>...lawyer has already stated that I did nothin...</td>\n",
              "      <td>0.3724</td>\n",
              "      <td>0.000</td>\n",
              "      <td>0.943</td>\n",
              "      <td>0.057</td>\n",
              "    </tr>\n",
              "    <tr>\n",
              "      <th>4</th>\n",
              "      <td>4</td>\n",
              "      <td>The D.C. Wolves and Fake News Media are readin...</td>\n",
              "      <td>-0.7269</td>\n",
              "      <td>0.165</td>\n",
              "      <td>0.787</td>\n",
              "      <td>0.048</td>\n",
              "    </tr>\n",
              "    <tr>\n",
              "      <th>5</th>\n",
              "      <td>5</td>\n",
              "      <td>RT @DailyCaller: President @realDonaldTrump si...</td>\n",
              "      <td>0.0000</td>\n",
              "      <td>0.000</td>\n",
              "      <td>1.000</td>\n",
              "      <td>0.000</td>\n",
              "    </tr>\n",
              "    <tr>\n",
              "      <th>6</th>\n",
              "      <td>6</td>\n",
              "      <td>RT @DailyCaller: Adam Schiff Challenger Jennif...</td>\n",
              "      <td>-0.6249</td>\n",
              "      <td>0.242</td>\n",
              "      <td>0.693</td>\n",
              "      <td>0.065</td>\n",
              "    </tr>\n",
              "    <tr>\n",
              "      <th>7</th>\n",
              "      <td>7</td>\n",
              "      <td>RT @DailyCaller: The Tide Is Turning Against D...</td>\n",
              "      <td>0.0000</td>\n",
              "      <td>0.000</td>\n",
              "      <td>1.000</td>\n",
              "      <td>0.000</td>\n",
              "    </tr>\n",
              "    <tr>\n",
              "      <th>8</th>\n",
              "      <td>8</td>\n",
              "      <td>RT @DailyCaller: Poll: Independents Flip On Im...</td>\n",
              "      <td>0.0000</td>\n",
              "      <td>0.000</td>\n",
              "      <td>1.000</td>\n",
              "      <td>0.000</td>\n",
              "    </tr>\n",
              "    <tr>\n",
              "      <th>9</th>\n",
              "      <td>9</td>\n",
              "      <td>When the Military rips down an old &amp;amp; badly...</td>\n",
              "      <td>0.3707</td>\n",
              "      <td>0.100</td>\n",
              "      <td>0.759</td>\n",
              "      <td>0.141</td>\n",
              "    </tr>\n",
              "  </tbody>\n",
              "</table>\n",
              "</div>\n",
              "      <button class=\"colab-df-convert\" onclick=\"convertToInteractive('df-202744fe-db06-4003-85fa-7768096d3146')\"\n",
              "              title=\"Convert this dataframe to an interactive table.\"\n",
              "              style=\"display:none;\">\n",
              "\n",
              "  <svg xmlns=\"http://www.w3.org/2000/svg\" height=\"24px\"viewBox=\"0 0 24 24\"\n",
              "       width=\"24px\">\n",
              "    <path d=\"M0 0h24v24H0V0z\" fill=\"none\"/>\n",
              "    <path d=\"M18.56 5.44l.94 2.06.94-2.06 2.06-.94-2.06-.94-.94-2.06-.94 2.06-2.06.94zm-11 1L8.5 8.5l.94-2.06 2.06-.94-2.06-.94L8.5 2.5l-.94 2.06-2.06.94zm10 10l.94 2.06.94-2.06 2.06-.94-2.06-.94-.94-2.06-.94 2.06-2.06.94z\"/><path d=\"M17.41 7.96l-1.37-1.37c-.4-.4-.92-.59-1.43-.59-.52 0-1.04.2-1.43.59L10.3 9.45l-7.72 7.72c-.78.78-.78 2.05 0 2.83L4 21.41c.39.39.9.59 1.41.59.51 0 1.02-.2 1.41-.59l7.78-7.78 2.81-2.81c.8-.78.8-2.07 0-2.86zM5.41 20L4 18.59l7.72-7.72 1.47 1.35L5.41 20z\"/>\n",
              "  </svg>\n",
              "      </button>\n",
              "\n",
              "\n",
              "\n",
              "    <div id=\"df-0635e345-7365-4319-952e-ab29682066d8\">\n",
              "      <button class=\"colab-df-quickchart\" onclick=\"quickchart('df-0635e345-7365-4319-952e-ab29682066d8')\"\n",
              "              title=\"Suggest charts.\"\n",
              "              style=\"display:none;\">\n",
              "\n",
              "<svg xmlns=\"http://www.w3.org/2000/svg\" height=\"24px\"viewBox=\"0 0 24 24\"\n",
              "     width=\"24px\">\n",
              "    <g>\n",
              "        <path d=\"M19 3H5c-1.1 0-2 .9-2 2v14c0 1.1.9 2 2 2h14c1.1 0 2-.9 2-2V5c0-1.1-.9-2-2-2zM9 17H7v-7h2v7zm4 0h-2V7h2v10zm4 0h-2v-4h2v4z\"/>\n",
              "    </g>\n",
              "</svg>\n",
              "      </button>\n",
              "    </div>\n",
              "\n",
              "<style>\n",
              "  .colab-df-quickchart {\n",
              "    background-color: #E8F0FE;\n",
              "    border: none;\n",
              "    border-radius: 50%;\n",
              "    cursor: pointer;\n",
              "    display: none;\n",
              "    fill: #1967D2;\n",
              "    height: 32px;\n",
              "    padding: 0 0 0 0;\n",
              "    width: 32px;\n",
              "  }\n",
              "\n",
              "  .colab-df-quickchart:hover {\n",
              "    background-color: #E2EBFA;\n",
              "    box-shadow: 0px 1px 2px rgba(60, 64, 67, 0.3), 0px 1px 3px 1px rgba(60, 64, 67, 0.15);\n",
              "    fill: #174EA6;\n",
              "  }\n",
              "\n",
              "  [theme=dark] .colab-df-quickchart {\n",
              "    background-color: #3B4455;\n",
              "    fill: #D2E3FC;\n",
              "  }\n",
              "\n",
              "  [theme=dark] .colab-df-quickchart:hover {\n",
              "    background-color: #434B5C;\n",
              "    box-shadow: 0px 1px 3px 1px rgba(0, 0, 0, 0.15);\n",
              "    filter: drop-shadow(0px 1px 2px rgba(0, 0, 0, 0.3));\n",
              "    fill: #FFFFFF;\n",
              "  }\n",
              "</style>\n",
              "\n",
              "    <script>\n",
              "      async function quickchart(key) {\n",
              "        const containerElement = document.querySelector('#' + key);\n",
              "        const charts = await google.colab.kernel.invokeFunction(\n",
              "            'suggestCharts', [key], {});\n",
              "      }\n",
              "    </script>\n",
              "\n",
              "      <script>\n",
              "\n",
              "function displayQuickchartButton(domScope) {\n",
              "  let quickchartButtonEl =\n",
              "    domScope.querySelector('#df-0635e345-7365-4319-952e-ab29682066d8 button.colab-df-quickchart');\n",
              "  quickchartButtonEl.style.display =\n",
              "    google.colab.kernel.accessAllowed ? 'block' : 'none';\n",
              "}\n",
              "\n",
              "        displayQuickchartButton(document);\n",
              "      </script>\n",
              "      <style>\n",
              "    .colab-df-container {\n",
              "      display:flex;\n",
              "      flex-wrap:wrap;\n",
              "      gap: 12px;\n",
              "    }\n",
              "\n",
              "    .colab-df-convert {\n",
              "      background-color: #E8F0FE;\n",
              "      border: none;\n",
              "      border-radius: 50%;\n",
              "      cursor: pointer;\n",
              "      display: none;\n",
              "      fill: #1967D2;\n",
              "      height: 32px;\n",
              "      padding: 0 0 0 0;\n",
              "      width: 32px;\n",
              "    }\n",
              "\n",
              "    .colab-df-convert:hover {\n",
              "      background-color: #E2EBFA;\n",
              "      box-shadow: 0px 1px 2px rgba(60, 64, 67, 0.3), 0px 1px 3px 1px rgba(60, 64, 67, 0.15);\n",
              "      fill: #174EA6;\n",
              "    }\n",
              "\n",
              "    [theme=dark] .colab-df-convert {\n",
              "      background-color: #3B4455;\n",
              "      fill: #D2E3FC;\n",
              "    }\n",
              "\n",
              "    [theme=dark] .colab-df-convert:hover {\n",
              "      background-color: #434B5C;\n",
              "      box-shadow: 0px 1px 3px 1px rgba(0, 0, 0, 0.15);\n",
              "      filter: drop-shadow(0px 1px 2px rgba(0, 0, 0, 0.3));\n",
              "      fill: #FFFFFF;\n",
              "    }\n",
              "  </style>\n",
              "\n",
              "      <script>\n",
              "        const buttonEl =\n",
              "          document.querySelector('#df-202744fe-db06-4003-85fa-7768096d3146 button.colab-df-convert');\n",
              "        buttonEl.style.display =\n",
              "          google.colab.kernel.accessAllowed ? 'block' : 'none';\n",
              "\n",
              "        async function convertToInteractive(key) {\n",
              "          const element = document.querySelector('#df-202744fe-db06-4003-85fa-7768096d3146');\n",
              "          const dataTable =\n",
              "            await google.colab.kernel.invokeFunction('convertToInteractive',\n",
              "                                                     [key], {});\n",
              "          if (!dataTable) return;\n",
              "\n",
              "          const docLinkHtml = 'Like what you see? Visit the ' +\n",
              "            '<a target=\"_blank\" href=https://colab.research.google.com/notebooks/data_table.ipynb>data table notebook</a>'\n",
              "            + ' to learn more about interactive tables.';\n",
              "          element.innerHTML = '';\n",
              "          dataTable['output_type'] = 'display_data';\n",
              "          await google.colab.output.renderOutput(dataTable, element);\n",
              "          const docLink = document.createElement('div');\n",
              "          docLink.innerHTML = docLinkHtml;\n",
              "          element.appendChild(docLink);\n",
              "        }\n",
              "      </script>\n",
              "    </div>\n",
              "  </div>\n"
            ]
          },
          "metadata": {},
          "execution_count": 9
        }
      ]
    },
    {
      "cell_type": "code",
      "source": [
        "#coleta de dados necessários tabelados acima\n",
        "X = dataset.iloc[:,[2,3,4,5]].values\n",
        "\n",
        "\n",
        "#tamanho da rede\n",
        "tx = 4\n",
        "ty = 4\n",
        "\n",
        "#treinamento do modelo SOM\n",
        "from minisom import MiniSom\n",
        "som = MiniSom(x = tx, y = ty, input_len = 4, sigma = 1.0, learning_rate = 0.5)\n",
        "som.random_weights_init(X)\n",
        "som.train_random(data = X, num_iteration = 1000)\n",
        "\n",
        "#contagem dos negativos, neutros e positivo\n",
        "negativo = [-0.6229, 1., 0., 0.] #Frase: BAD!!\n",
        "neutro   = [0., 0., 1., 0.]\n",
        "positivo = [0.6467, 0., 0., 1.] #Frase: HAPPY!!"
      ],
      "metadata": {
        "id": "NxtHZDw2t0k8"
      },
      "execution_count": null,
      "outputs": []
    },
    {
      "cell_type": "code",
      "source": [
        "#PLOTAGEM DO GRÁFICO\n",
        "\n",
        "import matplotlib\n",
        "import matplotlib.pyplot as plt\n",
        "\n",
        "# matriz de zeros para o contador de totais\n",
        "MT = np.zeros((tx,ty))\n",
        "\n",
        "fig, ax = plt.subplots()\n",
        "ax.set_title('Distribuição agrupada dos tweets categorizados')\n",
        "\n",
        "for i in X:\n",
        "  pos = som.winner(i)\n",
        "  ax.plot(pos[0], pos[1], 'o' ,color=\"black\", markersize=10)\n",
        "  MT[pos] += 1\n",
        "\n",
        "#plota um teeter 100% Positivo\n",
        "pos = som.winner(positivo)\n",
        "ax.plot(pos[0], pos[1], 'o' ,color=\"green\", markersize=20)\n",
        "\n",
        "#plota um tweeter 100% negativo\n",
        "pos = som.winner(negativo)\n",
        "ax.plot(pos[0], pos[1], 'o' ,color=\"red\", markersize=20)\n",
        "\n",
        "#plota um tweeter 100% neutro\n",
        "pos = som.winner(neutro)\n",
        "ax.plot(pos[0], pos[1], 'o' ,color=\"blue\", markersize=20 )\n",
        "\n",
        "plt.show()"
      ],
      "metadata": {
        "colab": {
          "base_uri": "https://localhost:8080/",
          "height": 452
        },
        "id": "aXEXSqPRuIAH",
        "outputId": "69d9bb7e-f0c7-4bb4-fffc-f52da28c0b03"
      },
      "execution_count": null,
      "outputs": [
        {
          "output_type": "display_data",
          "data": {
            "text/plain": [
              "<Figure size 640x480 with 1 Axes>"
            ],
            "image/png": "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\n"
          },
          "metadata": {}
        }
      ]
    },
    {
      "cell_type": "code",
      "source": [
        "print(\"Total:\")\n",
        "print(MT)"
      ],
      "metadata": {
        "colab": {
          "base_uri": "https://localhost:8080/"
        },
        "id": "zzjlW9s_ycE6",
        "outputId": "f530d983-2c50-4fce-ef41-6cd9cc5d1684"
      },
      "execution_count": null,
      "outputs": [
        {
          "output_type": "stream",
          "name": "stdout",
          "text": [
            "Total:\n",
            "[[ 18.  80.  91.  98.]\n",
            " [ 17.  22.  48.  38.]\n",
            " [ 27.  43.  87. 265.]\n",
            " [105. 113.  99.  48.]]\n"
          ]
        }
      ]
    },
    {
      "cell_type": "code",
      "source": [
        "##ANALISES INDIVIDUAIS\n",
        "#dataset = pd.read_csv('https://raw.githubusercontent.com/alyssonolima/Projeto-Virtual-Mood-Identifier/master/Dados/tweets_Donald_Trump_categorizados.csv')\n",
        "dataset = pd.read_csv('https://raw.githubusercontent.com/alyssonolima/Projeto-Virtual-Mood-Identifier/master/Dados/tweets_Barack_Obama_categorizados.csv')\n",
        "\n",
        "#coleta de dados necessários tabelados acima\n",
        "X = dataset.iloc[:,[2,3,4,5]].values\n",
        "\n",
        "#tamanho da rede\n",
        "tx = 4\n",
        "ty = 4\n",
        "\n",
        "#treinamento do modelo SOM\n",
        "from minisom import MiniSom\n",
        "som = MiniSom(x = tx, y = ty, input_len = 4, sigma = 1.0, learning_rate = 0.5)\n",
        "som.random_weights_init(X)\n",
        "som.train_random(data = X, num_iteration = 1000)\n",
        "\n",
        "fig, ax = plt.subplots()\n",
        "ax.set_title('Distribuição agrupada dos tweets do Obama')\n",
        "\n",
        "for i in X:\n",
        "  pos = som.winner(i)\n",
        "  ax.plot(pos[0], pos[1], 'o' ,color=\"black\", markersize=10)\n",
        "  MT[pos] += 1\n",
        "\n",
        "#plota um teeter 100% Positivo\n",
        "pos = som.winner(positivo)\n",
        "ax.plot(pos[0], pos[1], 'o' ,color=\"green\", markersize=20)\n",
        "\n",
        "#plota um tweeter 100% negativo\n",
        "pos = som.winner(negativo)\n",
        "ax.plot(pos[0], pos[1], 'o' ,color=\"red\", markersize=20)\n",
        "\n",
        "#plota um tweeter 100% neutro\n",
        "pos = som.winner(neutro)\n",
        "ax.plot(pos[0], pos[1], 'o' ,color=\"blue\", markersize=20 )\n",
        "\n",
        "plt.show()"
      ],
      "metadata": {
        "colab": {
          "base_uri": "https://localhost:8080/",
          "height": 452
        },
        "id": "XSCfkoHsvFT_",
        "outputId": "adae8028-6221-425f-ca64-2e444e2444e5"
      },
      "execution_count": null,
      "outputs": [
        {
          "output_type": "display_data",
          "data": {
            "text/plain": [
              "<Figure size 640x480 with 1 Axes>"
            ],
            "image/png": "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\n"
          },
          "metadata": {}
        }
      ]
    }
  ]
}
